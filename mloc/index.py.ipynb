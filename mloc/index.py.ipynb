{
 "cells": [
  {
   "cell_type": "code",
   "execution_count": 1,
   "id": "c7e8221e",
   "metadata": {},
   "outputs": [],
   "source": [
    "import numpy\n",
    "import pandas\n",
    "import matplotlib.pyplot as plot"
   ]
  },
  {
   "cell_type": "code",
   "execution_count": 2,
   "id": "6f18c3db",
   "metadata": {
    "scrolled": true
   },
   "outputs": [],
   "source": [
    "data = pandas.read_csv(\"data.csv\")"
   ]
  },
  {
   "cell_type": "code",
   "execution_count": 3,
   "id": "651f3c90",
   "metadata": {
    "scrolled": true
   },
   "outputs": [
    {
     "data": {
      "text/html": [
       "<div>\n",
       "<style scoped>\n",
       "    .dataframe tbody tr th:only-of-type {\n",
       "        vertical-align: middle;\n",
       "    }\n",
       "\n",
       "    .dataframe tbody tr th {\n",
       "        vertical-align: top;\n",
       "    }\n",
       "\n",
       "    .dataframe thead th {\n",
       "        text-align: right;\n",
       "    }\n",
       "</style>\n",
       "<table border=\"1\" class=\"dataframe\">\n",
       "  <thead>\n",
       "    <tr style=\"text-align: right;\">\n",
       "      <th></th>\n",
       "      <th>loyer</th>\n",
       "      <th>surface</th>\n",
       "    </tr>\n",
       "  </thead>\n",
       "  <tbody>\n",
       "    <tr>\n",
       "      <th>0</th>\n",
       "      <td>1330</td>\n",
       "      <td>37</td>\n",
       "    </tr>\n",
       "    <tr>\n",
       "      <th>1</th>\n",
       "      <td>1400</td>\n",
       "      <td>32</td>\n",
       "    </tr>\n",
       "    <tr>\n",
       "      <th>2</th>\n",
       "      <td>904</td>\n",
       "      <td>26</td>\n",
       "    </tr>\n",
       "  </tbody>\n",
       "</table>\n",
       "</div>"
      ],
      "text/plain": [
       "   loyer  surface\n",
       "0   1330       37\n",
       "1   1400       32\n",
       "2    904       26"
      ]
     },
     "execution_count": 3,
     "metadata": {},
     "output_type": "execute_result"
    }
   ],
   "source": [
    "data[:3]"
   ]
  },
  {
   "cell_type": "code",
   "execution_count": 4,
   "id": "8f9fdc3b",
   "metadata": {},
   "outputs": [
    {
     "data": {
      "text/plain": [
       "0    1330\n",
       "1    1400\n",
       "2     904\n",
       "3     955\n",
       "4    2545\n",
       "Name: loyer, dtype: int64"
      ]
     },
     "execution_count": 4,
     "metadata": {},
     "output_type": "execute_result"
    }
   ],
   "source": [
    "data['loyer'][:5]"
   ]
  },
  {
   "cell_type": "code",
   "execution_count": 5,
   "id": "191c18d4",
   "metadata": {},
   "outputs": [],
   "source": [
    "data = data[data['loyer'] < 10000]"
   ]
  },
  {
   "cell_type": "code",
   "execution_count": 6,
   "id": "474d265a",
   "metadata": {},
   "outputs": [
    {
     "data": {
      "image/png": "[encoded data removed]",
      "text/plain": [
       "<Figure size 432x288 with 1 Axes>"
      ]
     },
     "metadata": {
      "needs_background": "light"
     },
     "output_type": "display_data"
    }
   ],
   "source": [
    "plot.plot(\n",
    "    data['surface'],\n",
    "    data['loyer'],\n",
    "    'ro',\n",
    "    markersize=4\n",
    ")\n",
    "plot.show()"
   ]
  },
  {
   "cell_type": "code",
   "execution_count": 7,
   "id": "f156c9f5",
   "metadata": {},
   "outputs": [],
   "source": [
    "X = numpy.matrix([\n",
    "    numpy.ones(data.shape[0]),\n",
    "    data['surface']\n",
    "]).T\n",
    "\n",
    "Y = numpy.matrix(data['loyer']).T"
   ]
  },
  {
   "cell_type": "code",
   "execution_count": 8,
   "id": "c6f8ae0c",
   "metadata": {},
   "outputs": [],
   "source": [
    "# inverse the matrix X.T * X\n",
    "theta = numpy.linalg.inv(\n",
    "    X.T.dot(X) \n",
    "# then mutiply it with the matixes X.T and Y\n",
    ").dot(X.T).dot(Y)"
   ]
  },
  {
   "cell_type": "code",
   "execution_count": 9,
   "id": "e076fe8c",
   "metadata": {},
   "outputs": [
    {
     "data": {
      "text/plain": [
       "matrix([[266.45460292],\n",
       "        [ 30.66119596]])"
      ]
     },
     "execution_count": 9,
     "metadata": {},
     "output_type": "execute_result"
    }
   ],
   "source": [
    "theta"
   ]
  },
  {
   "cell_type": "code",
   "execution_count": 10,
   "id": "62f616ea",
   "metadata": {},
   "outputs": [],
   "source": [
    "# guess the price of an appartment with a given surface\n",
    "def guess_price(theta, surface):\n",
    "    return theta.item(0) + theta.item(1) * surface"
   ]
  },
  {
   "cell_type": "code",
   "execution_count": 11,
   "id": "af8b9368",
   "metadata": {},
   "outputs": [
    {
     "data": {
      "image/png": "[encoded data removed]",
      "text/plain": [
       "<Figure size 432x288 with 1 Axes>"
      ]
     },
     "metadata": {
      "needs_background": "light"
     },
     "output_type": "display_data"
    }
   ],
   "source": [
    "# data markers\n",
    "plot.plot(\n",
    "    data['surface'],\n",
    "    data['loyer'],\n",
    "    'ro',\n",
    "    markersize=4\n",
    ")\n",
    "\n",
    "# data separator, line\n",
    "plot.plot(\n",
    "    [0,250],\n",
    "    [theta.item(0), guess_price(theta, 250)],\n",
    "    linestyle=\"solid\",\n",
    "    c=\"#b3ff00\",\n",
    "    linewidth=3\n",
    ")\n",
    "\n",
    "plot.show()"
   ]
  },
  {
   "cell_type": "code",
   "execution_count": 12,
   "id": "09f9c3db",
   "metadata": {},
   "outputs": [
    {
     "data": {
      "text/plain": [
       "1186.290481753772"
      ]
     },
     "execution_count": 12,
     "metadata": {},
     "output_type": "execute_result"
    }
   ],
   "source": [
    "guess_price(theta, 30)"
   ]
  }
 ],
 "metadata": {
  "kernelspec": {
   "display_name": "Python 3 (ipykernel)",
   "language": "python",
   "name": "python3"
  },
  "language_info": {
   "codemirror_mode": {
    "name": "ipython",
    "version": 3
   },
   "file_extension": ".py",
   "mimetype": "text/x-python",
   "name": "python",
   "nbconvert_exporter": "python",
   "pygments_lexer": "ipython3",
   "version": "3.9.5"
  }
 },
 "nbformat": 4,
 "nbformat_minor": 5
}
