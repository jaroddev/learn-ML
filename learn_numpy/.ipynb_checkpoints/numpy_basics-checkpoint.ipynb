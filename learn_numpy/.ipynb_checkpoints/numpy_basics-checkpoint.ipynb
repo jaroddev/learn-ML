{
 "cells": [
  {
   "cell_type": "code",
   "execution_count": 1,
   "id": "7be07473",
   "metadata": {},
   "outputs": [],
   "source": [
    "# First feature: the numpy array\n",
    "# This allow us to transform sequential data structure (as well as tuples) such as lists into real arrays \n",
    "from numpy import array"
   ]
  },
  {
   "cell_type": "code",
   "execution_count": 2,
   "id": "2d9dd669",
   "metadata": {},
   "outputs": [],
   "source": [
    "a = [1, 2, 3]"
   ]
  },
  {
   "cell_type": "code",
   "execution_count": 3,
   "id": "c2c18501",
   "metadata": {},
   "outputs": [],
   "source": [
    "b = array(a)"
   ]
  },
  {
   "cell_type": "code",
   "execution_count": 4,
   "id": "edda6812",
   "metadata": {},
   "outputs": [
    {
     "data": {
      "text/plain": [
       "array([1, 2, 3])"
      ]
     },
     "execution_count": 4,
     "metadata": {},
     "output_type": "execute_result"
    }
   ],
   "source": [
    "b"
   ]
  },
  {
   "cell_type": "code",
   "execution_count": 5,
   "id": "5366ffbf",
   "metadata": {},
   "outputs": [
    {
     "data": {
      "text/plain": [
       "numpy.ndarray"
      ]
     },
     "execution_count": 5,
     "metadata": {},
     "output_type": "execute_result"
    }
   ],
   "source": [
    "type(b)"
   ]
  },
  {
   "cell_type": "code",
   "execution_count": 6,
   "id": "868abc3f",
   "metadata": {},
   "outputs": [],
   "source": [
    "# the advantage of such data structure is that we can easily scale an operation to then entire structure"
   ]
  },
  {
   "cell_type": "code",
   "execution_count": 7,
   "id": "f2bf056d",
   "metadata": {},
   "outputs": [
    {
     "data": {
      "text/plain": [
       "array([2, 3, 4])"
      ]
     },
     "execution_count": 7,
     "metadata": {},
     "output_type": "execute_result"
    }
   ],
   "source": [
    "# b is previously: array([1, 2 ,3]) \n",
    "b + 1"
   ]
  },
  {
   "cell_type": "code",
   "execution_count": 8,
   "id": "a23abf05",
   "metadata": {},
   "outputs": [
    {
     "data": {
      "text/plain": [
       "array([10, 20, 30])"
      ]
     },
     "execution_count": 8,
     "metadata": {},
     "output_type": "execute_result"
    }
   ],
   "source": [
    "b * 10"
   ]
  },
  {
   "cell_type": "code",
   "execution_count": 9,
   "id": "082a936a",
   "metadata": {},
   "outputs": [],
   "source": [
    "# Second feature: the arange function\n",
    "# If you do some python then you should know the range function.\n",
    "# The numpy arange function does kind of the same thing, what changes is the return type\n",
    "# The range returns a list while the arange returns an array\n",
    "from numpy import arange"
   ]
  },
  {
   "cell_type": "code",
   "execution_count": 10,
   "id": "f7abc2f1",
   "metadata": {},
   "outputs": [],
   "source": [
    "r = range(10)\n",
    "ar = arange(10)"
   ]
  },
  {
   "cell_type": "code",
   "execution_count": 11,
   "id": "c7ee39a5",
   "metadata": {},
   "outputs": [
    {
     "data": {
      "text/plain": [
       "range(0, 10)"
      ]
     },
     "execution_count": 11,
     "metadata": {},
     "output_type": "execute_result"
    }
   ],
   "source": [
    "r"
   ]
  },
  {
   "cell_type": "code",
   "execution_count": 12,
   "id": "2fee7bd1",
   "metadata": {},
   "outputs": [
    {
     "data": {
      "text/plain": [
       "array([0, 1, 2, 3, 4, 5, 6, 7, 8, 9])"
      ]
     },
     "execution_count": 12,
     "metadata": {},
     "output_type": "execute_result"
    }
   ],
   "source": [
    "ar"
   ]
  },
  {
   "cell_type": "code",
   "execution_count": 13,
   "id": "05b14edc",
   "metadata": {},
   "outputs": [],
   "source": [
    "# You can create not only one dimensional arrays but also multi dimensional ones\n",
    "ma = array([[1, 2], [2, 3], [4, 5]])"
   ]
  },
  {
   "cell_type": "code",
   "execution_count": 14,
   "id": "378c0a45",
   "metadata": {},
   "outputs": [
    {
     "data": {
      "text/plain": [
       "array([[1, 2],\n",
       "       [2, 3],\n",
       "       [4, 5]])"
      ]
     },
     "execution_count": 14,
     "metadata": {},
     "output_type": "execute_result"
    }
   ],
   "source": [
    "ma"
   ]
  },
  {
   "cell_type": "code",
   "execution_count": 15,
   "id": "e27f1713",
   "metadata": {},
   "outputs": [
    {
     "data": {
      "text/plain": [
       "array([[10, 20],\n",
       "       [20, 30],\n",
       "       [40, 50]])"
      ]
     },
     "execution_count": 15,
     "metadata": {},
     "output_type": "execute_result"
    }
   ],
   "source": [
    "ma * 10"
   ]
  },
  {
   "cell_type": "code",
   "execution_count": 22,
   "id": "9d3658f7",
   "metadata": {},
   "outputs": [
    {
     "data": {
      "text/plain": [
       "1"
      ]
     },
     "execution_count": 22,
     "metadata": {},
     "output_type": "execute_result"
    }
   ],
   "source": [
    "# The ndim property, is the number of dimension \n",
    "# 1 for a vector \n",
    "# 2 for a matrix\n",
    "ar.ndim"
   ]
  },
  {
   "cell_type": "code",
   "execution_count": 24,
   "id": "3f8a9766",
   "metadata": {},
   "outputs": [
    {
     "data": {
      "text/plain": [
       "2"
      ]
     },
     "execution_count": 24,
     "metadata": {},
     "output_type": "execute_result"
    }
   ],
   "source": [
    "ma.ndim"
   ]
  },
  {
   "cell_type": "code",
   "execution_count": 35,
   "id": "52db1864",
   "metadata": {},
   "outputs": [
    {
     "data": {
      "text/plain": [
       "(3,)"
      ]
     },
     "execution_count": 35,
     "metadata": {},
     "output_type": "execute_result"
    }
   ],
   "source": [
    "# The shape property is a tuple, with the length of each dimension of an array\n",
    "# For a vector, it returns the number of elements\n",
    "b.shape"
   ]
  },
  {
   "cell_type": "code",
   "execution_count": 30,
   "id": "203d368a",
   "metadata": {},
   "outputs": [
    {
     "data": {
      "text/plain": [
       "(10,)"
      ]
     },
     "execution_count": 30,
     "metadata": {},
     "output_type": "execute_result"
    }
   ],
   "source": [
    "ar.shape"
   ]
  },
  {
   "cell_type": "code",
   "execution_count": 36,
   "id": "3a09cc7f",
   "metadata": {},
   "outputs": [
    {
     "data": {
      "text/plain": [
       "(3, 2)"
      ]
     },
     "execution_count": 36,
     "metadata": {},
     "output_type": "execute_result"
    }
   ],
   "source": [
    "# For a matrix: \n",
    "# the first number is the number of elements (number of rows)\n",
    "# the second number is the length of a line (number of columns) \n",
    "ma.shape"
   ]
  },
  {
   "cell_type": "code",
   "execution_count": 37,
   "id": "b808f087",
   "metadata": {},
   "outputs": [
    {
     "data": {
      "text/plain": [
       "3"
      ]
     },
     "execution_count": 37,
     "metadata": {},
     "output_type": "execute_result"
    }
   ],
   "source": [
    "# Finally you can use size to get the total of elements in an array\n",
    "b.size"
   ]
  },
  {
   "cell_type": "code",
   "execution_count": 38,
   "id": "74fd8bd0",
   "metadata": {},
   "outputs": [
    {
     "data": {
      "text/plain": [
       "10"
      ]
     },
     "execution_count": 38,
     "metadata": {},
     "output_type": "execute_result"
    }
   ],
   "source": [
    "ar.size"
   ]
  },
  {
   "cell_type": "code",
   "execution_count": 40,
   "id": "059939af",
   "metadata": {},
   "outputs": [
    {
     "data": {
      "text/plain": [
       "6"
      ]
     },
     "execution_count": 40,
     "metadata": {},
     "output_type": "execute_result"
    }
   ],
   "source": [
    "ma.size"
   ]
  },
  {
   "cell_type": "code",
   "execution_count": 41,
   "id": "f8643602",
   "metadata": {},
   "outputs": [
    {
     "data": {
      "text/plain": [
       "array([0, 1, 2, 3, 4, 5, 6, 7, 8, 9])"
      ]
     },
     "execution_count": 41,
     "metadata": {},
     "output_type": "execute_result"
    }
   ],
   "source": [
    "# Now we are going to see a way to reformat an array\n",
    "# Let us imagine that we have an array of one dimension\n",
    "# and that we want an array of two dimensions of 5 elements each\n",
    "ar"
   ]
  },
  {
   "cell_type": "code",
   "execution_count": 42,
   "id": "ddb3ae29",
   "metadata": {},
   "outputs": [
    {
     "data": {
      "text/plain": [
       "10"
      ]
     },
     "execution_count": 42,
     "metadata": {},
     "output_type": "execute_result"
    }
   ],
   "source": [
    "ar.size"
   ]
  },
  {
   "cell_type": "code",
   "execution_count": 56,
   "id": "a6c354bc",
   "metadata": {},
   "outputs": [],
   "source": [
    "new_size = int(ar.size / 2)"
   ]
  },
  {
   "cell_type": "code",
   "execution_count": 57,
   "id": "b0e0f59e",
   "metadata": {},
   "outputs": [
    {
     "data": {
      "text/plain": [
       "5"
      ]
     },
     "execution_count": 57,
     "metadata": {},
     "output_type": "execute_result"
    }
   ],
   "source": [
    "new_size"
   ]
  },
  {
   "cell_type": "code",
   "execution_count": 58,
   "id": "adefef68",
   "metadata": {},
   "outputs": [
    {
     "data": {
      "text/plain": [
       "array([[0, 1, 2, 3, 4],\n",
       "       [5, 6, 7, 8, 9]])"
      ]
     },
     "execution_count": 58,
     "metadata": {},
     "output_type": "execute_result"
    }
   ],
   "source": [
    "ar.reshape((2, new_size))"
   ]
  },
  {
   "cell_type": "code",
   "execution_count": 67,
   "id": "e90ce418",
   "metadata": {},
   "outputs": [
    {
     "data": {
      "text/plain": [
       "array([0, 1, 2, 3, 4, 5])"
      ]
     },
     "execution_count": 67,
     "metadata": {},
     "output_type": "execute_result"
    }
   ],
   "source": [
    "# Same if we want to change a vector of 6 elements into:\n",
    "six_elements_range = arange(6)\n",
    "six_elements_range"
   ]
  },
  {
   "cell_type": "code",
   "execution_count": 68,
   "id": "2e61c871",
   "metadata": {},
   "outputs": [
    {
     "data": {
      "text/plain": [
       "array([[0, 1, 2],\n",
       "       [3, 4, 5]])"
      ]
     },
     "execution_count": 68,
     "metadata": {},
     "output_type": "execute_result"
    }
   ],
   "source": [
    "# - a matrix with 2 rows and 3 columns\n",
    "six_elements_range.reshape((2,3))"
   ]
  },
  {
   "cell_type": "code",
   "execution_count": 69,
   "id": "5f1a40b6",
   "metadata": {},
   "outputs": [
    {
     "data": {
      "text/plain": [
       "array([[0, 1],\n",
       "       [2, 3],\n",
       "       [4, 5]])"
      ]
     },
     "execution_count": 69,
     "metadata": {},
     "output_type": "execute_result"
    }
   ],
   "source": [
    "# - a matrix with 3 rows and 2 column\n",
    "six_elements_range.reshape(3, 2)"
   ]
  },
  {
   "cell_type": "code",
   "execution_count": 78,
   "id": "282d58e5",
   "metadata": {},
   "outputs": [
    {
     "data": {
      "text/plain": [
       "array([[0, 1, 2, 3, 4],\n",
       "       [5, 0, 0, 0, 0]])"
      ]
     },
     "execution_count": 78,
     "metadata": {},
     "output_type": "execute_result"
    }
   ],
   "source": [
    "# If you need to transform a one dimension array into a two dimension array which size does not fit\n",
    "# for example the six elements range of size 6\n",
    "# into an two dimension array of size 5\n",
    "# ths reshape function will raise an error\n",
    "\n",
    "# In this case you can use the function: resize\n",
    "# but you must understand that it will fill the created array with additional zero\n",
    "\n",
    "six_elements_range.resize((2,5), refcheck=False)\n",
    "six_elements_range"
   ]
  },
  {
   "cell_type": "code",
   "execution_count": null,
   "id": "98a54525",
   "metadata": {},
   "outputs": [],
   "source": []
  }
 ],
 "metadata": {
  "kernelspec": {
   "display_name": "Python 3 (ipykernel)",
   "language": "python",
   "name": "python3"
  },
  "language_info": {
   "codemirror_mode": {
    "name": "ipython",
    "version": 3
   },
   "file_extension": ".py",
   "mimetype": "text/x-python",
   "name": "python",
   "nbconvert_exporter": "python",
   "pygments_lexer": "ipython3",
   "version": "3.7.3"
  }
 },
 "nbformat": 4,
 "nbformat_minor": 5
}
